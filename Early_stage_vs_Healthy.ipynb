{
  "nbformat": 4,
  "nbformat_minor": 0,
  "metadata": {
    "colab": {
      "provenance": [],
      "include_colab_link": true
    },
    "kernelspec": {
      "name": "python3",
      "display_name": "Python 3"
    },
    "language_info": {
      "name": "python"
    }
  },
  "cells": [
    {
      "cell_type": "markdown",
      "metadata": {
        "id": "view-in-github",
        "colab_type": "text"
      },
      "source": [
        "<a href=\"https://colab.research.google.com/github/Yiifeiii/IT1244/blob/main/Early_stage_vs_Healthy.ipynb\" target=\"_parent\"><img src=\"https://colab.research.google.com/assets/colab-badge.svg\" alt=\"Open In Colab\"/></a>"
      ]
    },
    {
      "cell_type": "markdown",
      "source": [
        "This is done on healthy vs early stage cancer dataset.\n",
        "\n",
        "Contents:\n",
        "1. Data - import data, filter healthy and early stage cancer classes\n",
        "2. Feature selection - PCA\n",
        "3. Logistic Regression (PCA)\n",
        "4. Random Forest - Smote and API\n",
        "5. SVM - GridSearchCV"
      ],
      "metadata": {
        "id": "NnVeXCPUonIh"
      }
    },
    {
      "cell_type": "markdown",
      "source": [
        "## 1. Data"
      ],
      "metadata": {
        "id": "WCVl5NK4krhz"
      }
    },
    {
      "cell_type": "markdown",
      "source": [
        "1a. Import Data"
      ],
      "metadata": {
        "id": "lH1dbdPgkjgi"
      }
    },
    {
      "cell_type": "code",
      "execution_count": null,
      "metadata": {
        "id": "wzX2ud2_h3Xi",
        "outputId": "01a178eb-912f-4619-ac4f-4a45b408790c",
        "colab": {
          "base_uri": "https://localhost:8080/"
        }
      },
      "outputs": [
        {
          "output_type": "stream",
          "name": "stdout",
          "text": [
            "      length_51  length_52  length_53  length_54  length_55  length_56  \\\n",
            "0      0.000152   0.000081   0.000087   0.000092   0.000099   0.000125   \n",
            "1      0.006256   0.006413   0.006512   0.006469   0.006810   0.007070   \n",
            "2      0.003783   0.003886   0.004063   0.004237   0.004481   0.004832   \n",
            "3      0.004635   0.004471   0.004383   0.004829   0.004920   0.005056   \n",
            "4      0.011315   0.010045   0.009795   0.009906   0.010630   0.011467   \n",
            "...         ...        ...        ...        ...        ...        ...   \n",
            "2188   0.007355   0.007079   0.007045   0.007455   0.007724   0.008320   \n",
            "2189   0.007630   0.007204   0.007112   0.007522   0.007885   0.008424   \n",
            "2190   0.007663   0.007429   0.007198   0.007816   0.008329   0.008497   \n",
            "2191   0.008022   0.007604   0.007436   0.008037   0.008367   0.008986   \n",
            "2192   0.008126   0.007708   0.007657   0.008192   0.008471   0.008952   \n",
            "\n",
            "      length_57  length_58  length_59  length_60  ...  length_392  length_393  \\\n",
            "0      0.000122   0.000115   0.000151   0.000167  ...    0.007396    0.007193   \n",
            "1      0.007748   0.008088   0.008671   0.008835  ...    0.017830    0.017033   \n",
            "2      0.004960   0.005605   0.005919   0.006480  ...    0.010957    0.010481   \n",
            "3      0.005475   0.006158   0.007174   0.007697  ...    0.010032    0.008933   \n",
            "4      0.013024   0.014853   0.016874   0.017501  ...    0.009118    0.008535   \n",
            "...         ...        ...        ...        ...  ...         ...         ...   \n",
            "2188   0.009025   0.010229   0.011693   0.012588  ...    0.011925    0.011530   \n",
            "2189   0.009066   0.010354   0.012129   0.012888  ...    0.011961    0.011925   \n",
            "2190   0.009483   0.010873   0.012273   0.013330  ...    0.012519    0.012247   \n",
            "2191   0.009582   0.011191   0.012854   0.013603  ...    0.013120    0.012699   \n",
            "2192   0.009663   0.011319   0.013206   0.014165  ...    0.013482    0.012924   \n",
            "\n",
            "      length_394  length_395  length_396  length_397  length_398  length_399  \\\n",
            "0       0.006973    0.006481    0.006139    0.005958    0.005578    0.005327   \n",
            "1       0.016373    0.015371    0.014340    0.013975    0.013243    0.012725   \n",
            "2       0.009782    0.009211    0.008800    0.008320    0.007869    0.007286   \n",
            "3       0.008970    0.008546    0.008125    0.007587    0.007501    0.006931   \n",
            "4       0.008233    0.007754    0.007584    0.006933    0.006530    0.006378   \n",
            "...          ...         ...         ...         ...         ...         ...   \n",
            "2188    0.011168    0.010552    0.010089    0.009544    0.009199    0.008920   \n",
            "2189    0.011187    0.011074    0.010485    0.009946    0.009400    0.009125   \n",
            "2190    0.011730    0.011072    0.010699    0.010088    0.009725    0.009504   \n",
            "2191    0.011959    0.011431    0.010976    0.010455    0.010027    0.009558   \n",
            "2192    0.012220    0.011945    0.011429    0.010679    0.010379    0.010072   \n",
            "\n",
            "      length_400         class_label  \n",
            "0       0.005142             healthy  \n",
            "1       0.012267             healthy  \n",
            "2       0.007020             healthy  \n",
            "3       0.006663             healthy  \n",
            "4       0.005842             healthy  \n",
            "...          ...                 ...  \n",
            "2188    0.008394  early stage cancer  \n",
            "2189    0.008514  early stage cancer  \n",
            "2190    0.008949  early stage cancer  \n",
            "2191    0.009464  early stage cancer  \n",
            "2192    0.009424  early stage cancer  \n",
            "\n",
            "[2193 rows x 351 columns]\n"
          ]
        }
      ],
      "source": [
        "import pandas as pd\n",
        "\n",
        "# Read the CSV file into a DataFrame\n",
        "df = pd.read_csv('/content/Train_Set.csv')\n",
        "\n",
        "# TEST DATA\n",
        "dftest = pd.read_csv('/content/Test_Set.csv')\n",
        "# Display the DataFrame\n",
        "print(df)"
      ]
    },
    {
      "cell_type": "markdown",
      "source": [
        "1b. Create a filtered dataframe with only healthy and early stage cancer"
      ],
      "metadata": {
        "id": "9MAzqXqGkpPr"
      }
    },
    {
      "cell_type": "code",
      "source": [
        "# Define the classes you want to filter out\n",
        "classes_to_filter = ['mid stage cancer', 'late stage cancer', 'screening stage cancer']\n",
        "\n",
        "# Filter out rows where the 'class_label' column contains classes to filter out\n",
        "filtered_df = df[~df['class_label'].isin(classes_to_filter)]\n",
        "filtered_dftest = dftest[~dftest['class_label'].isin(classes_to_filter)]\n",
        "\n",
        "# Display the filtered DataFrame\n",
        "print(filtered_df)\n",
        "print(filtered_dftest)\n",
        "print(filtered_df['class_label'].unique())\n",
        "print(filtered_dftest['class_label'].unique())"
      ],
      "metadata": {
        "id": "15naTEzgkqmZ",
        "colab": {
          "base_uri": "https://localhost:8080/"
        },
        "outputId": "6a604be7-4a5b-4b88-bab8-1f2550f0e72c"
      },
      "execution_count": null,
      "outputs": [
        {
          "output_type": "stream",
          "name": "stdout",
          "text": [
            "      length_51  length_52  length_53  length_54  length_55  length_56  \\\n",
            "0      0.000152   0.000081   0.000087   0.000092   0.000099   0.000125   \n",
            "1      0.006256   0.006413   0.006512   0.006469   0.006810   0.007070   \n",
            "2      0.003783   0.003886   0.004063   0.004237   0.004481   0.004832   \n",
            "3      0.004635   0.004471   0.004383   0.004829   0.004920   0.005056   \n",
            "4      0.011315   0.010045   0.009795   0.009906   0.010630   0.011467   \n",
            "...         ...        ...        ...        ...        ...        ...   \n",
            "2188   0.007355   0.007079   0.007045   0.007455   0.007724   0.008320   \n",
            "2189   0.007630   0.007204   0.007112   0.007522   0.007885   0.008424   \n",
            "2190   0.007663   0.007429   0.007198   0.007816   0.008329   0.008497   \n",
            "2191   0.008022   0.007604   0.007436   0.008037   0.008367   0.008986   \n",
            "2192   0.008126   0.007708   0.007657   0.008192   0.008471   0.008952   \n",
            "\n",
            "      length_57  length_58  length_59  length_60  ...  length_392  length_393  \\\n",
            "0      0.000122   0.000115   0.000151   0.000167  ...    0.007396    0.007193   \n",
            "1      0.007748   0.008088   0.008671   0.008835  ...    0.017830    0.017033   \n",
            "2      0.004960   0.005605   0.005919   0.006480  ...    0.010957    0.010481   \n",
            "3      0.005475   0.006158   0.007174   0.007697  ...    0.010032    0.008933   \n",
            "4      0.013024   0.014853   0.016874   0.017501  ...    0.009118    0.008535   \n",
            "...         ...        ...        ...        ...  ...         ...         ...   \n",
            "2188   0.009025   0.010229   0.011693   0.012588  ...    0.011925    0.011530   \n",
            "2189   0.009066   0.010354   0.012129   0.012888  ...    0.011961    0.011925   \n",
            "2190   0.009483   0.010873   0.012273   0.013330  ...    0.012519    0.012247   \n",
            "2191   0.009582   0.011191   0.012854   0.013603  ...    0.013120    0.012699   \n",
            "2192   0.009663   0.011319   0.013206   0.014165  ...    0.013482    0.012924   \n",
            "\n",
            "      length_394  length_395  length_396  length_397  length_398  length_399  \\\n",
            "0       0.006973    0.006481    0.006139    0.005958    0.005578    0.005327   \n",
            "1       0.016373    0.015371    0.014340    0.013975    0.013243    0.012725   \n",
            "2       0.009782    0.009211    0.008800    0.008320    0.007869    0.007286   \n",
            "3       0.008970    0.008546    0.008125    0.007587    0.007501    0.006931   \n",
            "4       0.008233    0.007754    0.007584    0.006933    0.006530    0.006378   \n",
            "...          ...         ...         ...         ...         ...         ...   \n",
            "2188    0.011168    0.010552    0.010089    0.009544    0.009199    0.008920   \n",
            "2189    0.011187    0.011074    0.010485    0.009946    0.009400    0.009125   \n",
            "2190    0.011730    0.011072    0.010699    0.010088    0.009725    0.009504   \n",
            "2191    0.011959    0.011431    0.010976    0.010455    0.010027    0.009558   \n",
            "2192    0.012220    0.011945    0.011429    0.010679    0.010379    0.010072   \n",
            "\n",
            "      length_400         class_label  \n",
            "0       0.005142             healthy  \n",
            "1       0.012267             healthy  \n",
            "2       0.007020             healthy  \n",
            "3       0.006663             healthy  \n",
            "4       0.005842             healthy  \n",
            "...          ...                 ...  \n",
            "2188    0.008394  early stage cancer  \n",
            "2189    0.008514  early stage cancer  \n",
            "2190    0.008949  early stage cancer  \n",
            "2191    0.009464  early stage cancer  \n",
            "2192    0.009424  early stage cancer  \n",
            "\n",
            "[841 rows x 351 columns]\n",
            "      length_51  length_52  length_53  length_54  length_55  length_56  \\\n",
            "0      0.005657   0.005277   0.005162   0.005267   0.005287   0.005824   \n",
            "1      0.005132   0.004886   0.004952   0.005123   0.005237   0.005530   \n",
            "2      0.006114   0.005463   0.005444   0.005369   0.005425   0.005897   \n",
            "3      0.000158   0.000089   0.000085   0.000097   0.000107   0.000142   \n",
            "4      0.000215   0.000116   0.000129   0.000144   0.000160   0.000186   \n",
            "...         ...        ...        ...        ...        ...        ...   \n",
            "1015   0.013460   0.012353   0.011313   0.011487   0.012696   0.013746   \n",
            "1016   0.013434   0.012080   0.011520   0.011628   0.012746   0.013378   \n",
            "1017   0.013343   0.011992   0.011548   0.011362   0.012622   0.013325   \n",
            "1018   0.013106   0.011696   0.011223   0.011372   0.012205   0.013208   \n",
            "1019   0.013194   0.011770   0.010999   0.011324   0.012292   0.013099   \n",
            "\n",
            "      length_57  length_58  length_59  length_60  ...  length_392  length_393  \\\n",
            "0      0.006033   0.006759   0.007641   0.008071  ...    0.015585    0.014792   \n",
            "1      0.006147   0.006655   0.007607   0.008042  ...    0.010007    0.009324   \n",
            "2      0.006341   0.007238   0.008696   0.008772  ...    0.019935    0.018711   \n",
            "3      0.000141   0.000184   0.000206   0.000189  ...    0.006689    0.006362   \n",
            "4      0.000224   0.000226   0.000345   0.000321  ...    0.004744    0.004640   \n",
            "...         ...        ...        ...        ...  ...         ...         ...   \n",
            "1015   0.015086   0.017331   0.020645   0.022918  ...    0.016639    0.016127   \n",
            "1016   0.014879   0.017379   0.020604   0.022780  ...    0.016679    0.016182   \n",
            "1017   0.014797   0.017080   0.020183   0.022338  ...    0.017063    0.016099   \n",
            "1018   0.014753   0.016963   0.020223   0.022138  ...    0.016898    0.016297   \n",
            "1019   0.014481   0.016855   0.019906   0.022241  ...    0.016929    0.016376   \n",
            "\n",
            "      length_394  length_395  length_396  length_397  length_398  length_399  \\\n",
            "0       0.013918    0.013191    0.012644    0.011750    0.011413    0.011053   \n",
            "1       0.009207    0.008628    0.008210    0.007823    0.007412    0.007054   \n",
            "2       0.017700    0.017124    0.016344    0.015406    0.014876    0.014111   \n",
            "3       0.006070    0.005884    0.005488    0.005127    0.004942    0.004801   \n",
            "4       0.004561    0.004232    0.003967    0.003795    0.003561    0.003568   \n",
            "...          ...         ...         ...         ...         ...         ...   \n",
            "1015    0.015369    0.015121    0.013766    0.013660    0.012982    0.012447   \n",
            "1016    0.015736    0.014900    0.013860    0.013633    0.012958    0.012426   \n",
            "1017    0.015916    0.014723    0.013974    0.013645    0.013158    0.012555   \n",
            "1018    0.015682    0.015138    0.014118    0.013908    0.013059    0.012383   \n",
            "1019    0.015750    0.015277    0.014121    0.013719    0.013131    0.012676   \n",
            "\n",
            "      length_400         class_label  \n",
            "0       0.010341             healthy  \n",
            "1       0.006992             healthy  \n",
            "2       0.013640             healthy  \n",
            "3       0.004483             healthy  \n",
            "4       0.003286             healthy  \n",
            "...          ...                 ...  \n",
            "1015    0.011866  early stage cancer  \n",
            "1016    0.011918  early stage cancer  \n",
            "1017    0.012168  early stage cancer  \n",
            "1018    0.012104  early stage cancer  \n",
            "1019    0.012072  early stage cancer  \n",
            "\n",
            "[409 rows x 351 columns]\n",
            "['healthy' 'early stage cancer']\n",
            "['healthy' 'early stage cancer']\n"
          ]
        }
      ]
    },
    {
      "cell_type": "markdown",
      "source": [
        "1c. Remove NA rows from filtered data"
      ],
      "metadata": {
        "id": "tgUjRTbklpU9"
      }
    },
    {
      "cell_type": "code",
      "source": [
        "rows_before = filtered_df.shape[0]\n",
        "\n",
        "# Remove rows with NA = df.dropna()\n",
        "filtered_df = filtered_df.dropna()\n",
        "\n",
        "# Count the number of rows after dropping NA values\n",
        "rows_after = filtered_df.shape[0]\n",
        "\n",
        "# Calculate the difference in row counts\n",
        "na_rows_dropped = rows_before - rows_after\n",
        "\n",
        "# Display the count of NA rows dropped\n",
        "print(\"Number of NA rows dropped for filtered dataframe:\", na_rows_dropped)\n",
        "\n"
      ],
      "metadata": {
        "id": "cxXlL5O3lto6",
        "colab": {
          "base_uri": "https://localhost:8080/"
        },
        "outputId": "ce220416-8c46-4598-ee2e-f8111354d42e"
      },
      "execution_count": null,
      "outputs": [
        {
          "output_type": "stream",
          "name": "stdout",
          "text": [
            "Number of NA rows dropped for filtered dataframe: 0\n"
          ]
        }
      ]
    },
    {
      "cell_type": "markdown",
      "source": [
        "1d. Labelling data"
      ],
      "metadata": {
        "id": "9pYxLk_xoNIN"
      }
    },
    {
      "cell_type": "code",
      "source": [
        "# Drop missing values for training data\n",
        "filtered_df = filtered_df.dropna()\n",
        "\n",
        "# Drop missing values for test data\n",
        "filtered_dftest = filtered_dftest.dropna()\n",
        "\n",
        "filtered_df.dropna(inplace=True)\n",
        "filtered_dftest.dropna(inplace=True)\n",
        "\n",
        "# Separate features and class label for training data\n",
        "X_filtered = filtered_df.drop(columns=['class_label'])\n",
        "y_filtered = filtered_df['class_label']\n",
        "\n",
        "# Separate features and class label for test data\n",
        "X_filtered_test = filtered_dftest.drop(columns=['class_label'])\n",
        "y_filtered_test = filtered_dftest['class_label']\n"
      ],
      "metadata": {
        "id": "63F497JVoDTf"
      },
      "execution_count": null,
      "outputs": []
    },
    {
      "cell_type": "markdown",
      "source": [
        "1e. Normalizing TRAIN and TEST data for FILTERED dataframe"
      ],
      "metadata": {
        "id": "pqvXegZvnKvj"
      }
    },
    {
      "cell_type": "code",
      "source": [
        "from sklearn.preprocessing import MinMaxScaler\n",
        "\n",
        "# Initialize MinMaxScaler\n",
        "scaler = MinMaxScaler()\n",
        "\n",
        "# Normalize the features for training data\n",
        "filtered_X_normalized = scaler.fit_transform(X_filtered)\n",
        "\n",
        "# Normalize the features for test data\n",
        "filtered_X_normalized_test = scaler.transform(X_filtered_test)\n",
        "\n",
        "# Create DataFrames with normalized features for training and test data\n",
        "filtered_df_normalized = pd.DataFrame(filtered_X_normalized, columns=X_filtered.columns)\n",
        "filtered_df_normalized['class_label'] = y_filtered.values\n",
        "\n",
        "filtered_dftest_normalized = pd.DataFrame(filtered_X_normalized_test, columns=X_filtered_test.columns)\n",
        "filtered_dftest_normalized['class_label'] = y_filtered_test.values\n",
        "\n",
        "# Display the filtered and normalized DataFrames for training and test data\n",
        "print(filtered_df_normalized)\n",
        "print(filtered_dftest_normalized)"
      ],
      "metadata": {
        "id": "6IAgRNPonA_i",
        "colab": {
          "base_uri": "https://localhost:8080/"
        },
        "outputId": "186f65d2-8ccf-4ed3-fb29-ea731f74587b"
      },
      "execution_count": null,
      "outputs": [
        {
          "output_type": "stream",
          "name": "stdout",
          "text": [
            "     length_51  length_52  length_53  length_54  length_55  length_56  \\\n",
            "0     0.007378   0.003382   0.004230   0.004221   0.003644   0.005164   \n",
            "1     0.383494   0.416609   0.422897   0.418944   0.420269   0.416458   \n",
            "2     0.231073   0.251698   0.263312   0.273806   0.275724   0.283950   \n",
            "3     0.283586   0.289851   0.284208   0.312290   0.302936   0.297171   \n",
            "4     0.695197   0.653602   0.636861   0.642499   0.657474   0.676854   \n",
            "..         ...        ...        ...        ...        ...        ...   \n",
            "836   0.451174   0.460034   0.457684   0.483043   0.477062   0.490486   \n",
            "837   0.468173   0.468209   0.462008   0.487399   0.487006   0.496670   \n",
            "838   0.470203   0.482887   0.467593   0.506560   0.514602   0.500967   \n",
            "839   0.492290   0.494324   0.483150   0.520920   0.516954   0.529920   \n",
            "840   0.498693   0.501108   0.497517   0.531025   0.523405   0.527917   \n",
            "\n",
            "     length_57  length_58  length_59  length_60  ...  length_392  length_393  \\\n",
            "0     0.004483   0.003160   0.004138   0.003218  ...    0.115782    0.116430   \n",
            "1     0.422174   0.394619   0.371998   0.350510  ...    0.372809    0.367605   \n",
            "2     0.269499   0.272700   0.253154   0.256172  ...    0.203502    0.200374   \n",
            "3     0.297691   0.299828   0.307338   0.304908  ...    0.180718    0.160861   \n",
            "4     0.711202   0.726743   0.726131   0.697738  ...    0.158188    0.150705   \n",
            "..         ...        ...        ...        ...  ...         ...         ...   \n",
            "836   0.492114   0.499743   0.502475   0.500861  ...    0.227344    0.227133   \n",
            "837   0.494354   0.505855   0.521291   0.512913  ...    0.228234    0.237225   \n",
            "838   0.517233   0.531361   0.527484   0.530611  ...    0.241976    0.245441   \n",
            "839   0.522647   0.546938   0.552571   0.541540  ...    0.256777    0.256989   \n",
            "840   0.527091   0.553220   0.567760   0.564061  ...    0.265704    0.262725   \n",
            "\n",
            "     length_394  length_395  length_396  length_397  length_398  length_399  \\\n",
            "0      0.119673    0.117311    0.115350    0.119670    0.115382    0.116092   \n",
            "1      0.368674    0.367236    0.358517    0.367052    0.358832    0.364624   \n",
            "2      0.194098    0.194071    0.194266    0.192547    0.188163    0.181922   \n",
            "3      0.172576    0.175363    0.174247    0.169942    0.176464    0.169984   \n",
            "4      0.153057    0.153110    0.158215    0.149748    0.145609    0.151394   \n",
            "..          ...         ...         ...         ...         ...         ...   \n",
            "836    0.230787    0.231764    0.232465    0.230342    0.230395    0.236803   \n",
            "837    0.231306    0.246423    0.244236    0.242722    0.236773    0.243670   \n",
            "838    0.245675    0.246363    0.250580    0.247125    0.247112    0.256431   \n",
            "839    0.251762    0.256475    0.258774    0.258447    0.256695    0.258226   \n",
            "840    0.258677    0.270919    0.272214    0.265339    0.267874    0.275489   \n",
            "\n",
            "     length_400         class_label  \n",
            "0      0.115134             healthy  \n",
            "1      0.364249             healthy  \n",
            "2      0.180789             healthy  \n",
            "3      0.168334             healthy  \n",
            "4      0.139605             healthy  \n",
            "..          ...                 ...  \n",
            "836    0.228848  early stage cancer  \n",
            "837    0.233022  early stage cancer  \n",
            "838    0.248254  early stage cancer  \n",
            "839    0.266253  early stage cancer  \n",
            "840    0.264857  early stage cancer  \n",
            "\n",
            "[841 rows x 351 columns]\n",
            "     length_51  length_52  length_53  length_54  length_55  length_56  \\\n",
            "0     0.346603   0.342429   0.334970   0.340761   0.325707   0.342681   \n",
            "1     0.314212   0.316918   0.321296   0.331395   0.322633   0.325286   \n",
            "2     0.374711   0.354561   0.353323   0.347424   0.334324   0.346973   \n",
            "3     0.007758   0.003890   0.004119   0.004549   0.004123   0.006175   \n",
            "4     0.011232   0.005607   0.006994   0.007611   0.007398   0.008764   \n",
            "..         ...        ...        ...        ...        ...        ...   \n",
            "404   0.827376   0.804242   0.735753   0.745291   0.785750   0.811815   \n",
            "405   0.825745   0.786432   0.749298   0.754496   0.788840   0.790022   \n",
            "406   0.820165   0.780678   0.751072   0.737192   0.781114   0.786897   \n",
            "407   0.805528   0.761340   0.729899   0.737819   0.755220   0.779965   \n",
            "408   0.810976   0.766206   0.715326   0.734728   0.760619   0.773488   \n",
            "\n",
            "     length_57  length_58  length_59  length_60  ...  length_392  length_393  \\\n",
            "0     0.328265   0.329344   0.327534   0.319906  ...    0.317497    0.310415   \n",
            "1     0.334485   0.324252   0.326032   0.318748  ...    0.180097    0.170835   \n",
            "2     0.345108   0.352853   0.373056   0.347989  ...    0.424644    0.410424   \n",
            "3     0.005493   0.006524   0.006507   0.004113  ...    0.098363    0.095224   \n",
            "4     0.010072   0.008571   0.012540   0.009370  ...    0.050450    0.051265   \n",
            "..         ...        ...        ...        ...  ...         ...         ...   \n",
            "404   0.824150   0.848418   0.888937   0.914767  ...    0.343463    0.344477   \n",
            "405   0.812779   0.850763   0.887175   0.909231  ...    0.344436    0.345880   \n",
            "406   0.808275   0.836072   0.868990   0.891524  ...    0.353913    0.343766   \n",
            "407   0.805869   0.830337   0.870723   0.883513  ...    0.349840    0.348827   \n",
            "408   0.790984   0.825072   0.857037   0.887636  ...    0.350609    0.350823   \n",
            "\n",
            "     length_394  length_395  length_396  length_397  length_398  length_399  \\\n",
            "0      0.303646    0.305945    0.308225    0.298393    0.300719    0.308467   \n",
            "1      0.178857    0.177657    0.176756    0.177216    0.173652    0.174112   \n",
            "2      0.403821    0.416503    0.417941    0.411233    0.410696    0.411171   \n",
            "3      0.095755    0.100537    0.096054    0.094016    0.095171    0.098430   \n",
            "4      0.055800    0.054096    0.050949    0.052911    0.051320    0.057011   \n",
            "..          ...         ...         ...         ...         ...         ...   \n",
            "404    0.342064    0.360191    0.341495    0.357332    0.350555    0.355262   \n",
            "405    0.351784    0.354002    0.344299    0.356524    0.349806    0.354563   \n",
            "406    0.356553    0.349010    0.347689    0.356891    0.356135    0.358908   \n",
            "407    0.350376    0.360667    0.351942    0.364984    0.352991    0.353115   \n",
            "408    0.352167    0.364596    0.352047    0.359160    0.355286    0.362977   \n",
            "\n",
            "     length_400         class_label  \n",
            "0      0.296915             healthy  \n",
            "1      0.179806             healthy  \n",
            "2      0.412247             healthy  \n",
            "3      0.092094             healthy  \n",
            "4      0.050235             healthy  \n",
            "..          ...                 ...  \n",
            "404    0.350238  early stage cancer  \n",
            "405    0.352060  early stage cancer  \n",
            "406    0.360806  early stage cancer  \n",
            "407    0.358553  early stage cancer  \n",
            "408    0.357447  early stage cancer  \n",
            "\n",
            "[409 rows x 351 columns]\n"
          ]
        }
      ]
    },
    {
      "cell_type": "markdown",
      "source": [
        "## 2. Feature Selection (PCA)"
      ],
      "metadata": {
        "id": "JpE7xYu0nmPU"
      }
    },
    {
      "cell_type": "code",
      "source": [
        "from sklearn.decomposition import PCA\n",
        "from sklearn.preprocessing import StandardScaler\n",
        "import numpy as np\n",
        "import matplotlib.pyplot as plt\n",
        "\n",
        "# Standardize the features\n",
        "scaler = StandardScaler()\n",
        "#X_scaled = scaler.fit_transform(X_filtered)\n",
        "X_scaled_filtered = scaler.fit_transform(filtered_df_normalized.drop(columns=['class_label']))\n",
        "# Initialize PCA\n",
        "pca = PCA(n_components=10) #Choose no. of PCs\n",
        "\n",
        "# Perform PCA\n",
        "X_pca = pca.fit_transform(X_scaled_filtered)\n"
      ],
      "metadata": {
        "id": "l-wTLzMsni-8"
      },
      "execution_count": null,
      "outputs": []
    },
    {
      "cell_type": "code",
      "source": [
        "print(X_pca)"
      ],
      "metadata": {
        "id": "Vlj04tP9qq9t"
      },
      "execution_count": null,
      "outputs": []
    },
    {
      "cell_type": "markdown",
      "source": [
        "## 3. Baseline Model: Logistic Regression"
      ],
      "metadata": {
        "id": "TTZ7_zjqrQ1n"
      }
    },
    {
      "cell_type": "code",
      "source": [
        "from sklearn.linear_model import LogisticRegression\n",
        "from sklearn.metrics import accuracy_score\n",
        "from sklearn.preprocessing import StandardScaler\n",
        "from sklearn.pipeline import make_pipeline\n",
        "from sklearn.preprocessing import MaxAbsScaler\n",
        "from sklearn.metrics import classification_report, roc_auc_score\n",
        "# Standardize the features for filtered data\n",
        "max_abs_scaler_filtered = MaxAbsScaler()\n",
        "X_train_scaled_filtered = max_abs_scaler_filtered.fit_transform(X_filtered)\n",
        "X_test_scaled_filtered = max_abs_scaler_filtered.transform(X_filtered_test)\n",
        "\n",
        "# Initialize PCA for filtered data\n",
        "pca_filtered = PCA(n_components=10)  # You can choose the number of components as needed\n",
        "\n",
        "# Perform PCA for filtered data\n",
        "X_train_pca_filtered = pca_filtered.fit_transform(X_train_scaled_filtered)\n",
        "X_test_pca_filtered = pca_filtered.transform(X_test_scaled_filtered)\n",
        "\n",
        "# Initialize Logistic Regression model for filtered data\n",
        "log_reg_model_filtered = LogisticRegression()\n",
        "\n",
        "# Train the model on the training data for filtered data\n",
        "log_reg_model_filtered.fit(X_train_pca_filtered, y_filtered)\n",
        "\n",
        "# Predict on the testing data for filtered data\n",
        "y_pred_filtered = log_reg_model_filtered.predict(X_test_pca_filtered)\n",
        "y_pred_proba_filtered = log_reg_model_filtered.predict_proba(X_test_pca_filtered)[:, 1]\n",
        "# Calculate accuracy for filtered data\n",
        "accuracy_filtered = accuracy_score(y_filtered_test, y_pred_filtered)\n",
        "print(\"Accuracy for filtered data:\", accuracy_filtered)\n",
        "log_evaluation_metrics = classification_report(y_filtered_test, y_pred_filtered, target_names=['Healthy', 'Early Stage Cancer'], output_dict=True)\n",
        "log_auc = roc_auc_score(y_filtered_test, y_pred_proba_filtered)\n",
        "\n",
        "print(log_evaluation_metrics)\n",
        "print('AUROC: '+str(log_auc))"
      ],
      "metadata": {
        "id": "TSDXsp7crPXS",
        "colab": {
          "base_uri": "https://localhost:8080/"
        },
        "outputId": "79b29385-eee0-410a-c109-8dfbea20047e"
      },
      "execution_count": null,
      "outputs": [
        {
          "output_type": "stream",
          "name": "stdout",
          "text": [
            "Accuracy for filtered data: 0.8850855745721271\n",
            "{'Healthy': {'precision': 0.9002493765586035, 'recall': 0.9809782608695652, 'f1-score': 0.9388816644993497, 'support': 368}, 'Early Stage Cancer': {'precision': 0.125, 'recall': 0.024390243902439025, 'f1-score': 0.04081632653061225, 'support': 41}, 'accuracy': 0.8850855745721271, 'macro avg': {'precision': 0.5126246882793017, 'recall': 0.5026842523860021, 'f1-score': 0.489848995514981, 'support': 409}, 'weighted avg': {'precision': 0.8225348913779121, 'recall': 0.8850855745721271, 'f1-score': 0.848855554825222, 'support': 409}}\n",
            "AUROC: 0.8083907741251325\n"
          ]
        }
      ]
    },
    {
      "cell_type": "markdown",
      "source": [
        "Accuracy = 0.6969\n",
        "\n",
        "Precision: 0.72 for Healthy, 0.69 for Early stage\n",
        "\n",
        "Recall: 0.32 for Healthy, 0.93 for Early Stage\n",
        "\n",
        "F1-score: 0.44 for Healthy, 0.79 for Early Stage\n",
        "\n",
        "AUROC: 0.84"
      ],
      "metadata": {
        "id": "Z8656GTdswaQ"
      }
    },
    {
      "cell_type": "markdown",
      "source": [
        "## 4. Random Forest (no PCA!)"
      ],
      "metadata": {
        "id": "0GmorOLYuwUW"
      }
    },
    {
      "cell_type": "code",
      "source": [
        "from sklearn.ensemble import RandomForestClassifier\n",
        "from sklearn.metrics import classification_report, roc_auc_score"
      ],
      "metadata": {
        "id": "dmy231ottneN"
      },
      "execution_count": null,
      "outputs": []
    },
    {
      "cell_type": "markdown",
      "source": [
        "4a. Applying random forest on standardized data"
      ],
      "metadata": {
        "id": "guCNb8hTw_qM"
      }
    },
    {
      "cell_type": "code",
      "source": [
        "rf_classifier = RandomForestClassifier(random_state=42)\n",
        "rf_classifier.fit(X_train_scaled_filtered, y_filtered)\n",
        "y_pred = rf_classifier.predict(X_test_scaled_filtered)\n",
        "y_pred_proba = rf_classifier.predict_proba(X_test_scaled_filtered)[:, 1]  # Probability estimates for the positive class\n",
        "\n",
        "# Evaluating the initial Random Forest model without addressing imbalance explicitly\n",
        "rf_evaluation_metrics = classification_report(y_filtered_test, y_pred, target_names=['Healthy', 'Early Stage Cancer'], output_dict=True)\n",
        "rf_auc = roc_auc_score(y_filtered_test, y_pred_proba)\n",
        "\n",
        "print(rf_evaluation_metrics)\n",
        "print('AUROC: '+str(rf_auc))"
      ],
      "metadata": {
        "id": "SyGjkFtsto1-"
      },
      "execution_count": null,
      "outputs": []
    },
    {
      "cell_type": "markdown",
      "source": [
        "\n",
        "Healthy: {Precision: 1.0, Recall: 0.52, F1-score: 0.68, Support: 41}\n",
        "\n",
        "Early Stage: {Precision: 0.77, Recall: 1.0, F1-score: 0.87, Support: 41}\n",
        "\n",
        "Accuracy: 0.82\n",
        "**bold text**\n",
        "AUROC: 0.95"
      ],
      "metadata": {
        "id": "eV2oRUASjyhR"
      }
    },
    {
      "cell_type": "markdown",
      "source": [
        "4b. Applying SMOTE to improve representation for minority class"
      ],
      "metadata": {
        "id": "UJzo5wJZw9gk"
      }
    },
    {
      "cell_type": "code",
      "source": [
        "from imblearn.over_sampling import SMOTE\n",
        "from collections import Counter\n",
        "from imblearn.pipeline import Pipeline as ImblearnPipeline"
      ],
      "metadata": {
        "id": "HUimBK7IxXIa"
      },
      "execution_count": null,
      "outputs": []
    },
    {
      "cell_type": "code",
      "source": [
        "# Class count before SMOTE\n",
        "class_counts_before_smote = Counter(y_filtered)\n",
        "\n",
        "print(\"Number of classes before applying SMOTE:\")\n",
        "for class_label, count in class_counts_before_smote.items():\n",
        "    print(f\"Class {class_label}: {count} samples\")\n",
        "\n",
        "# Apply SMOTE\n",
        "smote = SMOTE(random_state=42)\n",
        "X_train_smote, y_train_smote = smote.fit_resample(X_train_scaled_filtered, y_filtered)\n",
        "\n",
        "# Count the number of classes after SMOTE\n",
        "class_counts_after_smote = Counter(y_train_smote)\n",
        "\n",
        "print(\"Number of classes after applying SMOTE:\")\n",
        "for class_label, count in class_counts_after_smote.items():\n",
        "    print(f\"Class {class_label}: {count} samples\")"
      ],
      "metadata": {
        "id": "C-XJi4Vlw8i7",
        "colab": {
          "base_uri": "https://localhost:8080/"
        },
        "outputId": "916e180c-50d7-4de3-a01c-0ac553522966"
      },
      "execution_count": null,
      "outputs": [
        {
          "output_type": "stream",
          "name": "stdout",
          "text": [
            "Number of classes before applying SMOTE:\n",
            "Class healthy: 60 samples\n",
            "Class early stage cancer: 781 samples\n",
            "Number of classes after applying SMOTE:\n",
            "Class healthy: 781 samples\n",
            "Class early stage cancer: 781 samples\n"
          ]
        }
      ]
    },
    {
      "cell_type": "markdown",
      "source": [
        "Number of classes before applying SMOTE:\n",
        "Class healthy: 60 samples\n",
        "Class early stage cancer: 21 samples\n",
        "Number of classes after applying SMOTE:\n",
        "Class healthy: 60 samples\n",
        "Class early stage cancer: 60 samples"
      ],
      "metadata": {
        "id": "HRorAAWdlxJr"
      }
    },
    {
      "cell_type": "code",
      "source": [
        "# Training the RandomForestClassifier with SMOTE to address class imbalance\n",
        "smote_pipeline = ImblearnPipeline([\n",
        "    ('smote', SMOTE(random_state=42)),\n",
        "    ('classifier', RandomForestClassifier(random_state=42))\n",
        "])\n",
        "#smote_pipeline.fit(X_train_scaled_filtered, y_filtered)\n",
        "smote_pipeline.fit(X_train_scaled_filtered, y_filtered)\n",
        "y_pred_smote = smote_pipeline.predict(X_test_scaled_filtered)\n",
        "y_pred_proba_smote = smote_pipeline.predict_proba(X_test_scaled_filtered)[:, 1]\n",
        "\n",
        "# Evaluating the SMOTE-improved Random Forest model\n",
        "#precision = precision_score(y_filtered_test, y_pred_smote,pos_label='early stage cancer')\n",
        "#recall = recall_score(y_filtered_test, y_pred_smote,pos_label='early stage cancer')\n",
        "#f1 = f1_score(y_filtered_test, y_pred_smote,pos_label='early stage cancer')\n",
        "smote_evaluation_metrics = classification_report(y_filtered_test, y_pred_smote, target_names=['Healthy', 'Early Stage Cancer'], output_dict=True)\n",
        "smote_auc = roc_auc_score(y_filtered_test, y_pred_proba_smote)\n",
        "print(smote_auc)\n",
        "#print(\"Precision:\", precision)\n",
        "#print(\"Recall:\", recall)\n",
        "#print(\"F1-score:\", f1)\n",
        "\n",
        "(smote_evaluation_metrics, smote_auc)"
      ],
      "metadata": {
        "id": "kGRJsvB0ycNE"
      },
      "execution_count": null,
      "outputs": []
    },
    {
      "cell_type": "markdown",
      "source": [
        "AUROC: 0.96\n",
        "\n",
        "Accuracy: 0.85\n",
        "\n",
        "Healthy: {Precision: 1.0, Recall: 0.6, F1-score: 0.75, Support: 25}\n",
        "\n",
        "Early Stage: {Precision: 0.80, Recall: 1.0, F1-score: 0.89, Support: 41}"
      ],
      "metadata": {
        "id": "3XHneLlK0P9H"
      }
    },
    {
      "cell_type": "markdown",
      "source": [
        "4c. Applying API function to random forest"
      ],
      "metadata": {
        "id": "zRm8LBwn1TTu"
      }
    },
    {
      "cell_type": "code",
      "source": [
        "from sklearn.model_selection import GridSearchCV\n",
        "from sklearn.metrics import accuracy_score"
      ],
      "metadata": {
        "id": "yf8mgt942R2s"
      },
      "execution_count": null,
      "outputs": []
    },
    {
      "cell_type": "code",
      "source": [
        "# Define the parameter grid? (a dictionary where keys are the hyperparameter names and values are lists of the parameter values to try)\n",
        "param_grid = {'n_estimators': [100, 200, 300], 'max_depth': [None, 10, 20], 'min_samples_split': [2, 5, 10]}\n",
        "\n",
        "rf = RandomForestClassifier(random_state=42, class_weight='balanced')\n",
        "\n",
        "grid_search = GridSearchCV(estimator=rf, param_grid=param_grid, cv=10, scoring='accuracy', n_jobs=-1)\n",
        "\n",
        "grid_search.fit(X_scaled_filtered, y_filtered)\n",
        "\n",
        "# Access the best parameters and best score\n",
        "print(\"Best Parameters:\", grid_search.best_params_)\n",
        "print(\"Best Score:\", grid_search.best_score_)\n",
        "\n",
        "# Use the best model\n",
        "best_rf = RandomForestClassifier(**grid_search.best_params_)\n",
        "best_rf.fit(X_scaled_filtered, y_filtered)\n",
        "\n",
        "# Predict on the test data\n",
        "y_pred_api = best_rf.predict(X_test_scaled_filtered)\n",
        "\n",
        "# Calculate accuracy\n",
        "accuracy = accuracy_score(y_filtered_test, y_pred_api)\n",
        "print(\"Random Forest Accuracy for decision tree with API function:\", accuracy)"
      ],
      "metadata": {
        "id": "cMqKhnNX0PYL"
      },
      "execution_count": null,
      "outputs": []
    },
    {
      "cell_type": "markdown",
      "source": [
        "Best Parameters: {'max_depth': None, 'min_samples_split': 2, 'n_estimators': 100}\n",
        "\n",
        "Best Score: 0.9625\n",
        "\n",
        "Random Forest Accuracy for decision tree with API function: 0.6212121212121212"
      ],
      "metadata": {
        "id": "FLAhXbdcm1yE"
      }
    },
    {
      "cell_type": "code",
      "source": [
        "from sklearn.metrics import precision_score, recall_score, f1_score, roc_auc_score\n",
        "from sklearn.metrics import classification_report\n",
        "y_pred_proba_api = best_rf.predict_proba(X_test_scaled_filtered)[:, 1]\n",
        "auroc = roc_auc_score(y_filtered_test, y_pred_proba_api)\n",
        "print(\"AUROC:\", auroc)\n",
        "#for early stage cancer\n",
        "precision = precision_score(y_filtered_test, y_pred_api,pos_label='early stage cancer')\n",
        "recall = recall_score(y_filtered_test, y_pred_api,pos_label='early stage cancer')\n",
        "f1 = f1_score(y_filtered_test, y_pred_api,pos_label='early stage cancer')\n",
        "api_evaluation_metrics = classification_report(y_filtered_test, y_pred_api, target_names=['Healthy', 'Early Stage Cancer'], output_dict=True)\n",
        "print(api_evaluation_metrics)\n",
        "print(\"Precision:\", precision)\n",
        "print(\"Recall:\", recall)\n",
        "print(\"F1-score:\", f1)\n"
      ],
      "metadata": {
        "id": "FWHy8WN930pc"
      },
      "execution_count": null,
      "outputs": []
    },
    {
      "cell_type": "markdown",
      "source": [
        "AUROC: 0.6673170731707316\n",
        "\n",
        "'Healthy': {'precision': 0.0, 'recall': 0.0, 'f1-score': 0.0, 'support': 25},\n",
        "\n",
        "'Early Stage Cancer': {'precision': 0.6212121212121212, 'recall': 1.0, 'f1-score': 0.766355140186916, 'support': 41},\n",
        "\n",
        "'accuracy': 0.6212121212121212"
      ],
      "metadata": {
        "id": "9REkUs5fnDmq"
      }
    },
    {
      "cell_type": "markdown",
      "source": [
        "4d. Applying API function to random forest (normalised data)"
      ],
      "metadata": {
        "id": "pKwQf1lnVcSn"
      }
    },
    {
      "cell_type": "code",
      "source": [
        "# Define the parameter grid? (a dictionary where keys are the hyperparameter names and values are lists of the parameter values to try)\n",
        "param_grid = {'n_estimators': [100, 200, 300], 'max_depth': [None, 10, 20], 'min_samples_split': [2, 5, 10]}\n",
        "\n",
        "rf = RandomForestClassifier(random_state=42, class_weight='balanced')\n",
        "\n",
        "grid_search = GridSearchCV(estimator=rf, param_grid=param_grid, cv=10, scoring='accuracy', n_jobs=-1)\n",
        "\n",
        "grid_search.fit(filtered_X_normalized, y_filtered)\n",
        "\n",
        "# Access the best parameters and best score\n",
        "print(\"Best Parameters:\", grid_search.best_params_)\n",
        "print(\"Best Score:\", grid_search.best_score_)\n",
        "\n",
        "# Use the best model\n",
        "best_rf = RandomForestClassifier(**grid_search.best_params_)\n",
        "best_rf.fit(filtered_X_normalized, y_filtered)\n",
        "\n",
        "# Predict on the test data\n",
        "y_pred_api = best_rf.predict(filtered_X_normalized_test)\n",
        "\n",
        "# Calculate accuracy\n",
        "accuracy = accuracy_score(y_filtered_test, y_pred_api)\n",
        "print(\"Random Forest Accuracy for decision tree with API function:\", accuracy)"
      ],
      "metadata": {
        "colab": {
          "base_uri": "https://localhost:8080/"
        },
        "id": "hs43AW6LVio9",
        "outputId": "ef856433-122c-4b10-a04d-7dac1150c85b"
      },
      "execution_count": null,
      "outputs": [
        {
          "output_type": "stream",
          "name": "stdout",
          "text": [
            "Best Parameters: {'max_depth': None, 'min_samples_split': 2, 'n_estimators': 100}\n",
            "Best Score: 0.9084033613445378\n",
            "Random Forest Accuracy for decision tree with API function: 0.8679706601466992\n"
          ]
        }
      ]
    },
    {
      "cell_type": "markdown",
      "source": [
        "Best Parameters: {'max_depth': None, 'min_samples_split': 2, 'n_estimators': 100}\n",
        "\n",
        "Best Score: 0.9084\n",
        "\n",
        "Random Forest Accuracy for decision tree with API function: 0.8753056234718827"
      ],
      "metadata": {
        "id": "FaVW357GV7S2"
      }
    },
    {
      "cell_type": "code",
      "source": [
        "from sklearn.metrics import precision_score, recall_score, f1_score, roc_auc_score\n",
        "from sklearn.metrics import classification_report\n",
        "y_pred_proba_api = best_rf.predict_proba(filtered_X_normalized_test)[:, 1]\n",
        "auroc = roc_auc_score(y_filtered_test, y_pred_proba_api)\n",
        "print(\"AUROC:\", auroc)\n",
        "#for early stage cancer\n",
        "precision = precision_score(y_filtered_test, y_pred_api,pos_label='early stage cancer')\n",
        "recall = recall_score(y_filtered_test, y_pred_api,pos_label='early stage cancer')\n",
        "f1 = f1_score(y_filtered_test, y_pred_api,pos_label='early stage cancer')\n",
        "api_evaluation_metrics = classification_report(y_filtered_test, y_pred_api, target_names=['Healthy', 'Early Stage Cancer'], output_dict=True)\n",
        "print(api_evaluation_metrics)\n",
        "print(\"Precision:\", precision)\n",
        "print(\"Recall:\", recall)\n",
        "print(\"F1-score:\", f1)\n"
      ],
      "metadata": {
        "colab": {
          "base_uri": "https://localhost:8080/"
        },
        "id": "QTwkPRqaWAKQ",
        "outputId": "6aa7dda3-e75a-4582-872d-a5f772d6fa8b"
      },
      "execution_count": null,
      "outputs": [
        {
          "output_type": "stream",
          "name": "stdout",
          "text": [
            "AUROC: 0.8105448038176033\n",
            "{'Healthy': {'precision': 0.9390581717451524, 'recall': 0.9211956521739131, 'f1-score': 0.9300411522633745, 'support': 368}, 'Early Stage Cancer': {'precision': 0.3958333333333333, 'recall': 0.4634146341463415, 'f1-score': 0.42696629213483145, 'support': 41}, 'accuracy': 0.8753056234718827, 'macro avg': {'precision': 0.6674457525392429, 'recall': 0.6923051431601273, 'f1-score': 0.6785037221991029, 'support': 409}, 'weighted avg': {'precision': 0.8846028700950679, 'recall': 0.8753056234718827, 'f1-score': 0.8796106650622246, 'support': 409}}\n",
            "Precision: 0.9390581717451524\n",
            "Recall: 0.9211956521739131\n",
            "F1-score: 0.9300411522633745\n"
          ]
        }
      ]
    },
    {
      "cell_type": "markdown",
      "source": [
        "AUROC: 0.8105448038176033\n",
        "\n",
        "Precision: 0.94 for healthy, 0.40 for early stage\n",
        "\n",
        "Recall: 0.92 for healthy, 0.46 for early stage\n",
        "\n",
        "F1-score: 0.93 for healthy, 0.43 for early stage\n",
        "\n",
        "Accuracy: 0.8753056234718827"
      ],
      "metadata": {
        "id": "ex-mGIkPWbc1"
      }
    },
    {
      "cell_type": "markdown",
      "source": [
        "## 5. Support Vector Machine"
      ],
      "metadata": {
        "id": "pYPS0sviGzrZ"
      }
    },
    {
      "cell_type": "code",
      "source": [
        "from sklearn.svm import SVC\n",
        "from sklearn.metrics import accuracy_score"
      ],
      "metadata": {
        "id": "CQcSLHOyG8TJ"
      },
      "execution_count": null,
      "outputs": []
    },
    {
      "cell_type": "markdown",
      "source": [
        "SVM with linear kernal (baseline)"
      ],
      "metadata": {
        "id": "BEyvnBdgNM8A"
      }
    },
    {
      "cell_type": "code",
      "source": [
        "svm = SVC(kernel='linear', random_state=42)\n",
        "svm.fit(X_train_pca_filtered, y_filtered)\n",
        "\n",
        "# Predicting the test set results\n",
        "y_pred_svm = svm.predict(X_test_pca_filtered)\n",
        "\n",
        "# Calculating accuracy\n",
        "accuracy = accuracy_score(y_filtered_test, y_pred_svm)\n",
        "SVM_evaluation_metrics = classification_report(y_filtered_test, y_pred_svm, target_names=['Healthy', 'Early Stage Cancer'], output_dict=True)\n",
        "print(\"Accuracy:\", accuracy)\n",
        "print(SVM_evaluation_metrics)"
      ],
      "metadata": {
        "id": "n1ywCJce30RX"
      },
      "execution_count": null,
      "outputs": []
    },
    {
      "cell_type": "markdown",
      "source": [
        "Accuracy: 0.80\n",
        "\n",
        "Precision: 0.8 for Healthy, 0.80 for Early Stage\n",
        "\n",
        "Recall: 0.64 for Healthy, 0.90 for Early Stage\n",
        "\n",
        "F1-score: 0.71 for Healthy, 0.85 for Early Stage\n"
      ],
      "metadata": {
        "id": "kh4bnTigNn1F"
      }
    },
    {
      "cell_type": "markdown",
      "source": [
        "Implementing Grid Search CV to tune hyperparameters"
      ],
      "metadata": {
        "id": "wfUnNIqeOjyU"
      }
    },
    {
      "cell_type": "code",
      "source": [
        "from sklearn.model_selection import GridSearchCV\n",
        "from sklearn.metrics import classification_report"
      ],
      "metadata": {
        "id": "B6TUb4tvOjYi"
      },
      "execution_count": null,
      "outputs": []
    },
    {
      "cell_type": "code",
      "source": [
        "param_grid = {\n",
        "    'C': [0.1, 1, 10, 100],\n",
        "    'kernel': ['linear', 'poly', 'rbf'],\n",
        "    'degree': [2, 3, 4]}  # Degree parameter for polynomial kernel}\n",
        "\n",
        "# Instantiate the SVM classifier\n",
        "svm = SVC(random_state=42)\n",
        "\n",
        "# Instantiate GridSearchCV\n",
        "grid_search = GridSearchCV(svm, param_grid, cv=10, scoring='accuracy')\n",
        "\n",
        "# Perform grid search\n",
        "grid_search.fit(X_train_pca_filtered, y_filtered)\n",
        "\n",
        "# Get the best parameters and the corresponding model\n",
        "best_params = grid_search.best_params_\n",
        "best_model = grid_search.best_estimator_\n",
        "\n",
        "# Evaluate the best model on the test set\n",
        "y_pred = best_model.predict(X_test_pca_filtered)\n",
        "#accuracy = accuracy_score(y_filtered_test, y_pred, pos_label='early stage cancer')\n",
        "#precision = precision_score(y_filtered_test, y_pred, pos_label='early stage cancer')\n",
        "#f1 = f1_score(y_filtered_test, y_pred, pos_label='early stage cancer')\n",
        "report = classification_report(y_filtered_test, y_pred)\n",
        "print(report)\n",
        "print(\"Best parameters:\", best_params)\n",
        "#print(\"Accuracy:\", accuracy)\n",
        "#print(\"Precision:\", precision)\n",
        "#print(\"F1-score:\", f1)"
      ],
      "metadata": {
        "id": "Z6YWufTZOnE9"
      },
      "execution_count": null,
      "outputs": []
    },
    {
      "cell_type": "markdown",
      "source": [
        "Best parameters: {'C': 100, 'degree': 2, 'kernel': 'linear'}\n",
        "\n",
        "Accuracy: 0.89\n",
        "\n",
        "Precision: 0.89 for Healthy, 0.91 for Early Stage\n",
        "\n",
        "Recall: 0.95 for Healthy, 0.80 for Early Stage\n",
        "\n",
        "F1-score: 0.92 for Healthy, 0.85 for Early Stage"
      ],
      "metadata": {
        "id": "v6kkPRSEQBZ9"
      }
    }
  ]
}