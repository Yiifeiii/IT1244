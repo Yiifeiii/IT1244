{
  "nbformat": 4,
  "nbformat_minor": 0,
  "metadata": {
    "colab": {
      "provenance": [],
      "include_colab_link": true
    },
    "kernelspec": {
      "name": "python3",
      "display_name": "Python 3"
    },
    "language_info": {
      "name": "python"
    }
  },
  "cells": [
    {
      "cell_type": "markdown",
      "metadata": {
        "id": "view-in-github",
        "colab_type": "text"
      },
      "source": [
        "<a href=\"https://colab.research.google.com/github/Yiifeiii/IT1244/blob/main/Cancer_vs_Healthy.ipynb\" target=\"_parent\"><img src=\"https://colab.research.google.com/assets/colab-badge.svg\" alt=\"Open In Colab\"/></a>"
      ]
    },
    {
      "cell_type": "markdown",
      "source": [
        "This is done on the whole dataset.\n",
        "Contents:\n",
        "1. Data  - import data and normalisation\n",
        "2. Feature selection - PCA\n",
        "3. Logistic Regression (PCA)\n",
        "4. Random Forest - Smote and API\n",
        "5. SVM - GridSearchCV\n"
      ],
      "metadata": {
        "id": "Msimou-CvrbZ"
      }
    },
    {
      "cell_type": "markdown",
      "source": [
        "1a. Import data"
      ],
      "metadata": {
        "id": "8suw_Mwis3LJ"
      }
    },
    {
      "cell_type": "code",
      "execution_count": null,
      "metadata": {
        "id": "5bMZSHMhsyv_",
        "colab": {
          "base_uri": "https://localhost:8080/"
        },
        "outputId": "ce430b51-c179-4155-8481-c8d7d43d72ce"
      },
      "outputs": [
        {
          "output_type": "stream",
          "name": "stdout",
          "text": [
            "      length_51  length_52  length_53  length_54  length_55  length_56  \\\n",
            "0      0.000152   0.000081   0.000087   0.000092   0.000099   0.000125   \n",
            "1      0.006256   0.006413   0.006512   0.006469   0.006810   0.007070   \n",
            "2      0.003783   0.003886   0.004063   0.004237   0.004481   0.004832   \n",
            "3      0.004635   0.004471   0.004383   0.004829   0.004920   0.005056   \n",
            "4      0.011315   0.010045   0.009795   0.009906   0.010630   0.011467   \n",
            "...         ...        ...        ...        ...        ...        ...   \n",
            "1469   0.008282   0.007651   0.007642   0.007950   0.007996   0.008413   \n",
            "1470   0.008332   0.007704   0.007684   0.007810   0.008012   0.008673   \n",
            "1471   0.008252   0.007584   0.007623   0.007811   0.008007   0.008702   \n",
            "1472   0.008320   0.007680   0.007724   0.007926   0.008045   0.008677   \n",
            "1473   0.008336   0.007864   0.007674   0.007986   0.008074   0.008753   \n",
            "\n",
            "      length_57  length_58  length_59  length_60  ...  length_392  length_393  \\\n",
            "0      0.000122   0.000115   0.000151   0.000167  ...    0.007396    0.007193   \n",
            "1      0.007748   0.008088   0.008671   0.008835  ...    0.017830    0.017033   \n",
            "2      0.004960   0.005605   0.005919   0.006480  ...    0.010957    0.010481   \n",
            "3      0.005475   0.006158   0.007174   0.007697  ...    0.010032    0.008933   \n",
            "4      0.013024   0.014853   0.016874   0.017501  ...    0.009118    0.008535   \n",
            "...         ...        ...        ...        ...  ...         ...         ...   \n",
            "1469   0.009116   0.010497   0.011940   0.012865  ...    0.008464    0.007932   \n",
            "1470   0.009123   0.010726   0.012300   0.013202  ...    0.008655    0.008149   \n",
            "1471   0.009166   0.010557   0.012396   0.013258  ...    0.008594    0.008066   \n",
            "1472   0.009321   0.010656   0.012640   0.013584  ...    0.008772    0.007990   \n",
            "1473   0.009346   0.010818   0.012691   0.013533  ...         NaN         NaN   \n",
            "\n",
            "      length_394  length_395  length_396  length_397  length_398  length_399  \\\n",
            "0       0.006973    0.006481    0.006139    0.005958    0.005578    0.005327   \n",
            "1       0.016373    0.015371    0.014340    0.013975    0.013243    0.012725   \n",
            "2       0.009782    0.009211    0.008800    0.008320    0.007869    0.007286   \n",
            "3       0.008970    0.008546    0.008125    0.007587    0.007501    0.006931   \n",
            "4       0.008233    0.007754    0.007584    0.006933    0.006530    0.006378   \n",
            "...          ...         ...         ...         ...         ...         ...   \n",
            "1469    0.007680    0.007298    0.006960    0.006462    0.006300    0.006239   \n",
            "1470    0.007756    0.007403    0.007232    0.006549    0.006240    0.006210   \n",
            "1471    0.007833    0.007287    0.007018    0.006584    0.006348    0.006151   \n",
            "1472    0.007825    0.007315    0.006931    0.006764    0.006264    0.006216   \n",
            "1473         NaN         NaN         NaN         NaN         NaN         NaN   \n",
            "\n",
            "      length_400             class_label  \n",
            "0       0.005142                 healthy  \n",
            "1       0.012267                 healthy  \n",
            "2       0.007020                 healthy  \n",
            "3       0.006663                 healthy  \n",
            "4       0.005842                 healthy  \n",
            "...          ...                     ...  \n",
            "1469    0.005875  screening stage cancer  \n",
            "1470    0.006146      early stage cancer  \n",
            "1471    0.005983      early stage cancer  \n",
            "1472    0.005937      early stage cancer  \n",
            "1473         NaN                     NaN  \n",
            "\n",
            "[1474 rows x 351 columns]\n"
          ]
        }
      ],
      "source": [
        "import pandas as pd\n",
        "\n",
        "# Mount Google Drive to access files\n",
        "#from google.colab import drive\n",
        "#drive.mount('/content/drive')\n",
        "\n",
        "# Read the CSV file into a DataFrame\n",
        "df = pd.read_csv('/content/Train_Set.csv')\n",
        "\n",
        "# TEST DATA\n",
        "dftest = pd.read_csv('/content/Test_Set.csv')\n",
        "# Display the DataFrame\n",
        "print(df)"
      ]
    },
    {
      "cell_type": "markdown",
      "source": [
        "1b. Remove NaN rows"
      ],
      "metadata": {
        "id": "A2jYkekQtJ2R"
      }
    },
    {
      "cell_type": "code",
      "source": [
        "# Remove rows with NA values\n",
        "df = df.dropna()\n",
        "\n",
        "# Display the DataFrame after removing rows with NA values\n",
        "#print(df)\n",
        "# Count the number of rows after dropping NA values\n",
        "rows_before = df.shape[0]\n",
        "rows_after = df.shape[0]\n",
        "\n",
        "# Calculate the difference in row counts\n",
        "na_rows_dropped = rows_before - rows_after\n",
        "\n",
        "# Display the count of NA rows dropped\n",
        "print(\"Number of NA rows dropped for dataframe:\", na_rows_dropped)"
      ],
      "metadata": {
        "colab": {
          "base_uri": "https://localhost:8080/"
        },
        "id": "q70znaWDtMHg",
        "outputId": "45442cdf-0995-4cf8-8455-98e29d4531d9"
      },
      "execution_count": null,
      "outputs": [
        {
          "output_type": "stream",
          "name": "stdout",
          "text": [
            "Number of NA rows dropped for dataframe: 0\n"
          ]
        }
      ]
    },
    {
      "cell_type": "markdown",
      "source": [
        "1c. Normalise train data (feature scaling)"
      ],
      "metadata": {
        "id": "P9UhOlOVtVQ9"
      }
    },
    {
      "cell_type": "code",
      "source": [
        "from sklearn.preprocessing import MinMaxScaler\n",
        "\n",
        "# Drop rows with NaN values\n",
        "df.dropna(inplace=True)\n",
        "\n",
        "# Add a new column for healthy vs cancer\n",
        "df['target'] = df['class_label'].apply(lambda x: 0 if x == 'healthy' else 1)\n",
        "\n",
        "# Separate features and class label\n",
        "X = df.drop(columns=['class_label'])\n",
        "y = df['target']\n",
        "\n",
        "# Initialize MinMaxScaler\n",
        "scaler = MinMaxScaler()\n",
        "\n",
        "# Normalize the features\n",
        "X_normalized = scaler.fit_transform(X)\n",
        "\n",
        "# Create a DataFrame with normalized features\n",
        "df_normalized = pd.DataFrame(X_normalized, columns=X.columns)\n",
        "\n",
        "# Add the class label back to the normalized DataFrame\n",
        "df_normalized['class_label'] = df['class_label']\n",
        "df_normalized['target'] = y.values\n",
        "\n",
        "# Display the normalized DataFrame\n",
        "print(df_normalized)"
      ],
      "metadata": {
        "id": "B7U4UGlUtbw0",
        "colab": {
          "base_uri": "https://localhost:8080/"
        },
        "outputId": "1779f40e-be20-4b1d-95c6-c5a31da5a638"
      },
      "execution_count": null,
      "outputs": [
        {
          "output_type": "stream",
          "name": "stdout",
          "text": [
            "      length_51  length_52  length_53  length_54  length_55  length_56  \\\n",
            "0      0.001507   0.000747   0.000935   0.000957   0.000817   0.001105   \n",
            "1      0.078348   0.091965   0.093480   0.095012   0.094259   0.089155   \n",
            "2      0.047208   0.055561   0.058204   0.062096   0.061840   0.060788   \n",
            "3      0.057937   0.063983   0.062823   0.070824   0.067943   0.063618   \n",
            "4      0.142029   0.144280   0.140776   0.145712   0.147460   0.144900   \n",
            "...         ...        ...        ...        ...        ...        ...   \n",
            "1468   0.103731   0.107658   0.108829   0.114849   0.109986   0.107460   \n",
            "1469   0.103852   0.109789   0.109759   0.116856   0.110782   0.106185   \n",
            "1470   0.104479   0.110552   0.110370   0.114789   0.111000   0.109481   \n",
            "1471   0.103471   0.108826   0.109486   0.114798   0.110935   0.109851   \n",
            "1472   0.104326   0.110218   0.110946   0.116505   0.111467   0.109532   \n",
            "\n",
            "      length_57  length_58  length_59  length_60  ...  length_393  length_394  \\\n",
            "0      0.000897   0.000568   0.000701   0.000510  ...    0.128980    0.128184   \n",
            "1      0.084487   0.070909   0.061304   0.055544  ...    0.376587    0.374778   \n",
            "2      0.053933   0.049001   0.041725   0.040595  ...    0.211731    0.201889   \n",
            "3      0.059575   0.053876   0.050651   0.048318  ...    0.172779    0.180575   \n",
            "4      0.142328   0.130588   0.119645   0.110568  ...    0.162768    0.161245   \n",
            "...         ...        ...        ...        ...  ...         ...         ...   \n",
            "1468   0.099069   0.091712   0.085526   0.081752  ...    0.148060    0.150682   \n",
            "1469   0.099487   0.092157   0.084552   0.081130  ...    0.147587    0.146751   \n",
            "1470   0.099567   0.094178   0.087112   0.083271  ...    0.153056    0.148732   \n",
            "1471   0.100036   0.092685   0.087795   0.083625  ...    0.150949    0.150753   \n",
            "1472   0.101734   0.093560   0.089534   0.085699  ...    0.149032    0.150547   \n",
            "\n",
            "      length_395  length_396  length_397  length_398  length_399  length_400  \\\n",
            "0       0.125743    0.125869    0.129065    0.122259    0.122344    0.123768   \n",
            "1       0.373280    0.366144    0.373807    0.363816    0.369118    0.370453   \n",
            "2       0.201770    0.203847    0.201164    0.194474    0.187709    0.188783   \n",
            "3       0.183241    0.184065    0.178801    0.182866    0.175855    0.176449   \n",
            "4       0.161200    0.168224    0.158822    0.152250    0.157396    0.148001   \n",
            "...          ...         ...         ...         ...         ...         ...   \n",
            "1468    0.148969    0.153879    0.150312    0.143412    0.147848    0.156070   \n",
            "1469    0.148483    0.149919    0.144454    0.145013    0.152769    0.149164   \n",
            "1470    0.151412    0.157910    0.147092    0.143139    0.151825    0.158539   \n",
            "1471    0.148171    0.151622    0.148167    0.146533    0.149854    0.152898   \n",
            "1472    0.148978    0.149078    0.153654    0.143895    0.152013    0.151302   \n",
            "\n",
            "      target             class_label  \n",
            "0          0                 healthy  \n",
            "1          0                 healthy  \n",
            "2          0                 healthy  \n",
            "3          0                 healthy  \n",
            "4          0                 healthy  \n",
            "...      ...                     ...  \n",
            "1468       1  screening stage cancer  \n",
            "1469       1  screening stage cancer  \n",
            "1470       1      early stage cancer  \n",
            "1471       1      early stage cancer  \n",
            "1472       1      early stage cancer  \n",
            "\n",
            "[1473 rows x 352 columns]\n"
          ]
        }
      ]
    },
    {
      "cell_type": "markdown",
      "source": [
        "1d. Normalise test data"
      ],
      "metadata": {
        "id": "Am5Xj9WZtfGX"
      }
    },
    {
      "cell_type": "code",
      "source": [
        "# Drop rows with NaN values\n",
        "dftest.dropna(inplace=True)\n",
        "\n",
        "# Add a new column for healthy vs cancer\n",
        "dftest['target'] = dftest['class_label'].apply(lambda x: 0 if x == 'healthy' else 1)\n",
        "\n",
        "# Separate features and class label\n",
        "X_test = dftest.drop(columns=['class_label'])\n",
        "y_test = dftest['target']\n",
        "\n",
        "# Initialize MinMaxScaler\n",
        "scaler = MinMaxScaler()\n",
        "\n",
        "# Normalize the features\n",
        "X_normalized_test = scaler.fit_transform(X_test)\n",
        "\n",
        "# Create a DataFrame with normalized features\n",
        "dftest_normalized = pd.DataFrame(X_normalized_test, columns=X_test.columns)\n",
        "\n",
        "# Add the class label back to the normalized DataFrame\n",
        "dftest_normalized['class_label'] = dftest['class_label']\n",
        "dftest_normalized['target'] = y_test.values"
      ],
      "metadata": {
        "id": "zY3zqZ4ytjw2"
      },
      "execution_count": null,
      "outputs": []
    },
    {
      "cell_type": "markdown",
      "source": [
        "2. PCA"
      ],
      "metadata": {
        "id": "6IFpBzbdu6Hw"
      }
    },
    {
      "cell_type": "code",
      "source": [
        "from sklearn.decomposition import PCA\n",
        "from sklearn.preprocessing import StandardScaler\n",
        "\n",
        "# Standardize the features\n",
        "scaler = StandardScaler()\n",
        "X_scaled = scaler.fit_transform(X)\n",
        "\n",
        "import numpy as np\n",
        "import matplotlib.pyplot as plt\n",
        "\n",
        "\n",
        "# Initialize PCA\n",
        "pca = PCA()\n",
        "\n",
        "# Fit PCA to the scaled data\n",
        "pca.fit(X_scaled)\n",
        "\n",
        "# Get explained variance ratio\n",
        "explained_variance_ratio = pca.explained_variance_ratio_\n",
        "\n",
        "\n",
        "# Plot explained variance ratio\n",
        "plt.plot(range(1, len(explained_variance_ratio) + 1), explained_variance_ratio, marker='o', linestyle='-')\n",
        "plt.xlabel('Number of Components')\n",
        "plt.ylabel('Explained Variance Ratio')\n",
        "plt.title('Elbow Method for Optimal Number of Principal Components')\n",
        "plt.grid(True)\n",
        "#plt.show()\n",
        "plt.xlim(0, 25)\n",
        "plt.show()"
      ],
      "metadata": {
        "colab": {
          "base_uri": "https://localhost:8080/",
          "height": 472
        },
        "id": "DHJwnLfYu7Ba",
        "outputId": "dc2267b4-5294-43a4-e98a-7cd2e1dbe053"
      },
      "execution_count": null,
      "outputs": [
        {
          "output_type": "display_data",
          "data": {
            "text/plain": [
              "<Figure size 640x480 with 1 Axes>"
            ],
            "image/png": "[encoded data removed]"
          },
          "metadata": {}
        }
      ]
    },
    {
      "cell_type": "markdown",
      "source": [
        "Let PC = 10"
      ],
      "metadata": {
        "id": "oWMSK2t2vDny"
      }
    },
    {
      "cell_type": "code",
      "source": [
        "# Initialize PCA\n",
        "pca = PCA(n_components=10)  # You can choose the number of components as needed\n",
        "\n",
        "# Perform PCA\n",
        "X_pca = pca.fit_transform(X_scaled)\n"
      ],
      "metadata": {
        "id": "rDv2f3VQvGHQ"
      },
      "execution_count": null,
      "outputs": []
    },
    {
      "cell_type": "markdown",
      "source": [
        "Contribution of each x variable"
      ],
      "metadata": {
        "id": "CdhEWGtFvKm5"
      }
    },
    {
      "cell_type": "code",
      "source": [
        "# Get the names of the original features\n",
        "feature_names = X.columns\n",
        "\n",
        "# Get the principal components\n",
        "components = pca.components_\n",
        "\n",
        "# Create a DataFrame to store the contributions of features to each principal component\n",
        "components_df = pd.DataFrame(components, columns=feature_names, index=[f'PC{i+1}' for i in range(len(components))])\n",
        "\n",
        "# Print the DataFrame\n",
        "#print(components_df)\n",
        "\n",
        "# Sort the variables for each principal component based on their contributions\n",
        "sorted_components_df = components_df.apply(lambda x: x.abs().sort_values(ascending=False), axis=1)\n",
        "\n",
        "# Print the sorted DataFrame\n",
        "print(sorted_components_df)"
      ],
      "metadata": {
        "id": "j2iuYmKmvNQh",
        "colab": {
          "base_uri": "https://localhost:8080/"
        },
        "outputId": "a5df78fd-a435-4bb9-cff2-786a0c865214"
      },
      "execution_count": null,
      "outputs": [
        {
          "output_type": "stream",
          "name": "stdout",
          "text": [
            "      length_100  length_101  length_102  length_103  length_104  length_105  \\\n",
            "PC1     0.058068    0.058204    0.058903    0.059734    0.060331    0.060863   \n",
            "PC2     0.045430    0.046192    0.046701    0.046933    0.047142    0.047277   \n",
            "PC3     0.068720    0.066471    0.062697    0.058395    0.055390    0.053288   \n",
            "PC4     0.022769    0.020787    0.021594    0.023142    0.021130    0.018191   \n",
            "PC5     0.017678    0.008797    0.004051    0.015557    0.019625    0.018576   \n",
            "PC6     0.033846    0.045011    0.053080    0.059049    0.060014    0.054228   \n",
            "PC7     0.008325    0.005611    0.007484    0.008903    0.010184    0.010442   \n",
            "PC8     0.019317    0.011227    0.004146    0.001128    0.006146    0.006547   \n",
            "PC9     0.008182    0.011036    0.010739    0.008712    0.005533    0.004319   \n",
            "PC10    0.039968    0.046474    0.036697    0.020597    0.005974    0.003810   \n",
            "\n",
            "      length_106  length_107  length_108  length_109  ...  length_91  \\\n",
            "PC1     0.060987    0.060731    0.060540    0.060176  ...   0.056881   \n",
            "PC2     0.047365    0.047624    0.047412    0.047087  ...   0.044269   \n",
            "PC3     0.053642    0.054560    0.056104    0.058003  ...   0.073760   \n",
            "PC4     0.015886    0.015916    0.016948    0.019839  ...   0.014362   \n",
            "PC5     0.010655    0.004341    0.001887    0.005281  ...   0.028253   \n",
            "PC6     0.044758    0.036522    0.030849    0.032006  ...   0.044477   \n",
            "PC7     0.010139    0.009912    0.009746    0.012889  ...   0.009349   \n",
            "PC8     0.000164    0.007702    0.013032    0.013067  ...   0.007250   \n",
            "PC9     0.004406    0.005411    0.007022    0.008477  ...   0.010337   \n",
            "PC10    0.012074    0.022464    0.036715    0.048820  ...   0.037718   \n",
            "\n",
            "      length_92  length_93  length_94  length_95  length_96  length_97  \\\n",
            "PC1    0.057593   0.058872   0.059380   0.059813   0.059748   0.059435   \n",
            "PC2    0.044506   0.044680   0.045277   0.045421   0.045559   0.045654   \n",
            "PC3    0.071426   0.067806   0.065223   0.063319   0.063408   0.064220   \n",
            "PC4    0.017829   0.015743   0.010033   0.007750   0.007797   0.010797   \n",
            "PC5    0.018275   0.011197   0.010042   0.012731   0.020323   0.026237   \n",
            "PC6    0.049531   0.054644   0.054308   0.049418   0.038125   0.029305   \n",
            "PC7    0.006927   0.007378   0.010854   0.010626   0.010713   0.008899   \n",
            "PC8    0.002369   0.004645   0.004796   0.000233   0.008427   0.017394   \n",
            "PC9    0.009700   0.006375   0.003961   0.002138   0.001445   0.002594   \n",
            "PC10   0.027951   0.012856   0.001440   0.001917   0.001815   0.010947   \n",
            "\n",
            "      length_98  length_99    target  \n",
            "PC1    0.058921   0.058544  0.006048  \n",
            "PC2    0.045581   0.045178  0.012064  \n",
            "PC3    0.066089   0.067902  0.010044  \n",
            "PC4    0.015656   0.021016  0.007021  \n",
            "PC5    0.027072   0.023517  0.005204  \n",
            "PC6    0.025270   0.025655  0.017886  \n",
            "PC7    0.009639   0.011680  0.053534  \n",
            "PC8    0.023487   0.023612  0.006473  \n",
            "PC9    0.003464   0.004239  0.987539  \n",
            "PC10   0.018695   0.025252  0.118635  \n",
            "\n",
            "[10 rows x 351 columns]\n"
          ]
        }
      ]
    },
    {
      "cell_type": "markdown",
      "source": [
        "3. Baseline Model: Logistic regression (PCA)"
      ],
      "metadata": {
        "id": "Lv-_Z_WxuMf7"
      }
    },
    {
      "cell_type": "code",
      "source": [
        "from sklearn.linear_model import LogisticRegression\n",
        "from sklearn.metrics import accuracy_score\n",
        "from sklearn.preprocessing import StandardScaler\n",
        "from sklearn.pipeline import make_pipeline\n",
        "from sklearn.preprocessing import MaxAbsScaler\n",
        "from sklearn.metrics import classification_report, roc_auc_score\n",
        "\n",
        "#try scaling to [0,1]\n",
        "max_abs_scaler = MaxAbsScaler()\n",
        "X_train_scaled = max_abs_scaler.fit_transform(X)\n",
        "#X_test_scaled = max_abs_scaler.fit_transform(X_test)\n",
        "X_test_scaled = max_abs_scaler.transform(X_test)\n",
        "# Initialize PCA\n",
        "pca = PCA(n_components=10)  # You can choose the number of components as needed\n",
        "\n",
        "# Perform PCA on training data\n",
        "X_train_pca = pca.fit_transform(X_train_scaled)\n",
        "\n",
        "# Transform test data using the same PCA transformation\n",
        "X_test_pca = pca.fit_transform(X_test_scaled)\n",
        "\n",
        "# Initialize Logistic Regression model\n",
        "log_reg_model = LogisticRegression()\n",
        "\n",
        "# Train the model on the training data\n",
        "log_reg_model.fit(X_train_pca, y)\n",
        "\n",
        "# Predict on the testing data\n",
        "y_pred_log = log_reg_model.predict(X_test_pca)\n",
        "\n",
        "# Calculate accuracy\n",
        "accuracy = accuracy_score(y_test, y_pred_log)\n",
        "print(\"Accuracy:\", accuracy)\n",
        "\n",
        "auroc = roc_auc_score(y_test, y_pred_log)\n",
        "print(\"AUROC:\", auroc)\n",
        "\n",
        "log_evaluation_metrics = classification_report(y_test, y_pred_log, target_names=['Healthy', 'Cancer'], output_dict=True)\n",
        "log_auc = roc_auc_score(y_test, y_pred_log)\n",
        "print(log_evaluation_metrics)"
      ],
      "metadata": {
        "colab": {
          "base_uri": "https://localhost:8080/"
        },
        "id": "gWibHqFUuOC3",
        "outputId": "b2bd9c62-adbb-47c3-fc2c-b998ad3176b3"
      },
      "execution_count": null,
      "outputs": [
        {
          "output_type": "stream",
          "name": "stdout",
          "text": [
            "Accuracy: 0.9593810444874274\n",
            "AUROC: 0.5579544617198439\n",
            "{'Healthy': {'precision': 0.45454545454545453, 'recall': 0.12195121951219512, 'f1-score': 0.19230769230769232, 'support': 41}, 'Cancer': {'precision': 0.9648093841642229, 'recall': 0.9939577039274925, 'f1-score': 0.9791666666666667, 'support': 993}, 'accuracy': 0.9593810444874274, 'macro avg': {'precision': 0.7096774193548387, 'recall': 0.5579544617198438, 'f1-score': 0.5857371794871795, 'support': 1034}, 'weighted avg': {'precision': 0.944576481732531, 'recall': 0.9593810444874274, 'f1-score': 0.9479662624609434, 'support': 1034}}\n"
          ]
        }
      ]
    },
    {
      "cell_type": "markdown",
      "source": [
        "Accuracy: 0.896551724137931\n",
        "\n",
        "AUROC: 0.897\n",
        "\n",
        "Precision: 1.0\n",
        "\n",
        "Recall: 0.7944664031620553\n",
        "\n",
        "F1-score: 0.8854625550660793\n"
      ],
      "metadata": {
        "id": "x84TMu7DsZXb"
      }
    },
    {
      "cell_type": "markdown",
      "source": [
        "4. Random Forest (no PCA)"
      ],
      "metadata": {
        "id": "ZE7P8PU1wyxq"
      }
    },
    {
      "cell_type": "markdown",
      "source": [
        "4a. Baseline method: Random Forest without dealing with imbalanced data through SMOTE or weighted loss function"
      ],
      "metadata": {
        "id": "iPFVLzQXyj9Z"
      }
    },
    {
      "cell_type": "code",
      "source": [
        "from sklearn.preprocessing import LabelEncoder, StandardScaler\n",
        "from sklearn.ensemble import RandomForestClassifier\n",
        "from sklearn.metrics import classification_report, roc_auc_score\n",
        "\n",
        "# Convert class labels into binary labels: 0 for healthy, 1 for any cancer stage\n",
        "binary_label_mapping = {'healthy': 0, 'screening stage cancer': 1, 'early stage cancer': 1, 'mid stage cancer': 1, 'late stage cancer': 1}\n",
        "df['binary_class_label'] = df['class_label'].map(binary_label_mapping)\n",
        "dftest['binary_class_label'] = dftest['class_label'].map(binary_label_mapping)\n",
        "\n",
        "# Splitting the datasets into features (X) and labels (y)\n",
        "X_train = df.drop(['class_label', 'binary_class_label'], axis=1)\n",
        "y_train = df['binary_class_label']\n",
        "X_test = dftest.drop(['class_label', 'binary_class_label'], axis=1)\n",
        "y_test = dftest['binary_class_label']\n",
        "\n",
        "# Feature scaling\n",
        "scaler = StandardScaler()\n",
        "X_train_scaled = scaler.fit_transform(X_train)\n",
        "X_test_scaled = scaler.transform(X_test)\n",
        "\n",
        "# Checking the shape of the datasets to confirm successful preprocessing\n",
        "X_train_scaled.shape, y_train.shape, X_test_scaled.shape, y_test.shape\n",
        "\n",
        "rf_classifier = RandomForestClassifier(random_state=42)\n",
        "rf_classifier.fit(X_train_scaled, y_train)\n",
        "y_pred = rf_classifier.predict(X_test_scaled)\n",
        "y_pred_proba = rf_classifier.predict_proba(X_test_scaled)[:, 1]  # Probability estimates for the positive class\n",
        "\n",
        "# Evaluating the initial Random Forest model without addressing imbalance explicitly\n",
        "rf_evaluation_metrics = classification_report(y_test, y_pred, target_names=['Healthy', 'Cancer'], output_dict=True)\n",
        "rf_auc = roc_auc_score(y_test, y_pred_proba)\n",
        "\n",
        "(rf_evaluation_metrics, rf_auc)"
      ],
      "metadata": {
        "colab": {
          "base_uri": "https://localhost:8080/"
        },
        "id": "IaCmgh3PygX6",
        "outputId": "29909010-70d3-4c19-df27-b704794ac098"
      },
      "execution_count": null,
      "outputs": [
        {
          "output_type": "execute_result",
          "data": {
            "text/plain": [
              "({'Healthy': {'precision': 0.7272727272727273,\n",
              "   'recall': 0.5853658536585366,\n",
              "   'f1-score': 0.6486486486486487,\n",
              "   'support': 41},\n",
              "  'Cancer': {'precision': 0.983016983016983,\n",
              "   'recall': 0.9909365558912386,\n",
              "   'f1-score': 0.9869608826479438,\n",
              "   'support': 993},\n",
              "  'accuracy': 0.9748549323017408,\n",
              "  'macro avg': {'precision': 0.8551448551448552,\n",
              "   'recall': 0.7881512047748875,\n",
              "   'f1-score': 0.8178047656482963,\n",
              "   'support': 1034},\n",
              "  'weighted avg': {'precision': 0.97287625334047,\n",
              "   'recall': 0.9748549323017408,\n",
              "   'f1-score': 0.973546180912962,\n",
              "   'support': 1034}},\n",
              " 0.9863557094785449)"
            ]
          },
          "metadata": {},
          "execution_count": 10
        }
      ]
    },
    {
      "cell_type": "markdown",
      "source": [
        "* Accuracy: 94.39%\n",
        "* Precision: 96.52% for cancer, 20.69% for healthy\n",
        "* Recall: 97.68% for cancer, 14.63% for healthy\n",
        "* F1-Score: 97.10% for cancer, 17.14% for healthy\n",
        "* AUROC: 81.96%\n",
        "\n"
      ],
      "metadata": {
        "id": "PGcD-jKr0IlN"
      }
    },
    {
      "cell_type": "markdown",
      "source": [
        "4b. Random forest (SMOTE)"
      ],
      "metadata": {
        "id": "M275-J76Z_HZ"
      }
    },
    {
      "cell_type": "code",
      "source": [
        "from imblearn.over_sampling import SMOTE\n",
        "from collections import Counter\n",
        "\n",
        "# Class count before SMOTE\n",
        "class_counts_before_smote = Counter(y_train)\n",
        "\n",
        "print(\"Number of classes before applying SMOTE:\")\n",
        "for class_label, count in class_counts_before_smote.items():\n",
        "    print(f\"Class {class_label}: {count} samples\")\n",
        "\n",
        "# Apply SMOTE\n",
        "smote = SMOTE(random_state=42)\n",
        "X_train_smote, y_train_smote = smote.fit_resample(X_train_scaled, y_train)\n",
        "\n",
        "# Count the number of classes after SMOTE\n",
        "class_counts_after_smote = Counter(y_train_smote)\n",
        "\n",
        "print(\"Number of classes after applying SMOTE:\")\n",
        "for class_label, count in class_counts_after_smote.items():\n",
        "    print(f\"Class {class_label}: {count} samples\")"
      ],
      "metadata": {
        "colab": {
          "base_uri": "https://localhost:8080/"
        },
        "id": "koU2txes2sS2",
        "outputId": "c508cc66-d0c5-48e5-8704-b7ce6f213502"
      },
      "execution_count": null,
      "outputs": [
        {
          "output_type": "stream",
          "name": "stdout",
          "text": [
            "Number of classes before applying SMOTE:\n",
            "Class 0: 60 samples\n",
            "Class 1: 971 samples\n",
            "Number of classes after applying SMOTE:\n",
            "Class 0: 971 samples\n",
            "Class 1: 971 samples\n"
          ]
        }
      ]
    },
    {
      "cell_type": "code",
      "source": [
        "from imblearn.over_sampling import SMOTE\n",
        "from imblearn.pipeline import Pipeline as ImblearnPipeline\n",
        "from collections import Counter\n",
        "\n",
        "# Training the RandomForestClassifier with SMOTE to address class imbalance\n",
        "smote_pipeline = ImblearnPipeline([\n",
        "    ('smote', SMOTE(random_state=42)),\n",
        "    ('classifier', RandomForestClassifier(random_state=42))\n",
        "])\n",
        "smote_pipeline.fit(X_train_scaled, y_train)\n",
        "y_pred_smote = smote_pipeline.predict(X_test_scaled)\n",
        "y_pred_proba_smote = smote_pipeline.predict_proba(X_test_scaled)[:, 1]\n",
        "\n",
        "# Evaluating the SMOTE-improved Random Forest model\n",
        "smote_evaluation_metrics = classification_report(y_test, y_pred_smote, target_names=['Healthy', 'Cancer'], output_dict=True)\n",
        "smote_auc = roc_auc_score(y_test, y_pred_proba_smote)\n",
        "\n",
        "(smote_evaluation_metrics, smote_auc)\n"
      ],
      "metadata": {
        "colab": {
          "base_uri": "https://localhost:8080/"
        },
        "id": "9inZDEn11NUp",
        "outputId": "f561ace4-010d-458c-fd88-7529cdb78732"
      },
      "execution_count": null,
      "outputs": [
        {
          "output_type": "execute_result",
          "data": {
            "text/plain": [
              "({'Healthy': {'precision': 0.3917525773195876,\n",
              "   'recall': 0.926829268292683,\n",
              "   'f1-score': 0.5507246376811594,\n",
              "   'support': 41},\n",
              "  'Cancer': {'precision': 0.9967982924226254,\n",
              "   'recall': 0.9405840886203424,\n",
              "   'f1-score': 0.9678756476683937,\n",
              "   'support': 993},\n",
              "  'accuracy': 0.9400386847195358,\n",
              "  'macro avg': {'precision': 0.6942754348711065,\n",
              "   'recall': 0.9337066784565127,\n",
              "   'f1-score': 0.7593001426747765,\n",
              "   'support': 1034},\n",
              "  'weighted avg': {'precision': 0.9728071180326596,\n",
              "   'recall': 0.9400386847195358,\n",
              "   'f1-score': 0.9513348435973332,\n",
              "   'support': 1034}},\n",
              " 0.9873750399135411)"
            ]
          },
          "metadata": {},
          "execution_count": 12
        }
      ]
    },
    {
      "cell_type": "markdown",
      "source": [
        "*   Accuracy: 85.88%\n",
        "*   Precision: 98.29% for cancer, 16.56% for healthy\n",
        "*   Recall: 86.81% for cancer, 63.41% for healthy\n",
        "*   F1-Score: 92.19% for cancer, 26.26% for healthy\n",
        "*   AUROC: 86.60%\n"
      ],
      "metadata": {
        "id": "1fnmNmQk1Whq"
      }
    },
    {
      "cell_type": "markdown",
      "source": [
        "4c. Random forest (grid search cv)"
      ],
      "metadata": {
        "id": "4Ehy5_6j14HD"
      }
    },
    {
      "cell_type": "markdown",
      "source": [
        "Random forest (grid search cv) [standardisation]"
      ],
      "metadata": {
        "id": "VQvKgLVyxYNE"
      }
    },
    {
      "cell_type": "code",
      "source": [
        "from sklearn.model_selection import GridSearchCV\n",
        "from sklearn.ensemble import RandomForestClassifier\n",
        "from sklearn.metrics import accuracy_score\n",
        "\n",
        "# Define the parameter grid? (a dictionary where keys are the hyperparameter names and values are lists of the parameter values to try)\n",
        "param_grid = {'n_estimators': [100, 200, 300], 'max_depth': [None, 10, 20], 'min_samples_split': [2, 5, 10]}\n",
        "\n",
        "rf = RandomForestClassifier(random_state=42, class_weight='balanced')\n",
        "\n",
        "grid_search = GridSearchCV(estimator=rf, param_grid=param_grid, cv=5, scoring='accuracy', n_jobs=-1)\n",
        "\n",
        "grid_search.fit(X_train_scaled, y)\n",
        "\n",
        "# Access the best parameters and best score\n",
        "print(\"Best Parameters:\", grid_search.best_params_)\n",
        "print(\"Best Score:\", grid_search.best_score_)\n",
        "\n",
        "# Use the best model\n",
        "best_rf = RandomForestClassifier(**grid_search.best_params_)\n",
        "best_rf.fit(X_train_scaled, y)\n",
        "\n",
        "# Predict on the test data\n",
        "y_pred_api = best_rf.predict(X_test_scaled)\n",
        "\n",
        "# Calculate accuracy\n",
        "accuracy = accuracy_score(y_test, y_pred_api)\n",
        "print(\"Random Forest Grid Search CV Accuracy:\", accuracy)"
      ],
      "metadata": {
        "colab": {
          "base_uri": "https://localhost:8080/"
        },
        "id": "ao_Mpsfyxg_O",
        "outputId": "e2b06108-a332-42e9-f1b6-0f2cf77ee641"
      },
      "execution_count": null,
      "outputs": [
        {
          "output_type": "stream",
          "name": "stdout",
          "text": [
            "Best Parameters: {'max_depth': None, 'min_samples_split': 2, 'n_estimators': 200}\n",
            "Best Score: 0.9010646780169786\n",
            "Random Forest Grid Search CV Accuracy: 0.9777562862669246\n"
          ]
        }
      ]
    },
    {
      "cell_type": "markdown",
      "source": [
        "Best Parameters: {'max_depth': 10, 'min_samples_split': 10, 'n_estimators': 200}\n",
        "\n",
        "Best Score: 0.9758\n",
        "\n",
        "Random Forest Grid Search CV Accuracy: 0.9700193423597679"
      ],
      "metadata": {
        "id": "FaVW357GV7S2"
      }
    },
    {
      "cell_type": "markdown",
      "source": [
        "Performance metrics for random forest (grid search cv) [standardisation]"
      ],
      "metadata": {
        "id": "ScCqM31kxzug"
      }
    },
    {
      "cell_type": "code",
      "source": [
        "from sklearn.metrics import precision_score, recall_score, f1_score, roc_auc_score\n",
        "\n",
        "auroc = roc_auc_score(y_test, y_pred_api)\n",
        "print(\"AUROC:\", auroc)\n",
        "precision = precision_score(y_test, y_pred_api,pos_label=1)\n",
        "recall = recall_score(y_test, y_pred_api,pos_label=1)\n",
        "f1 = f1_score(y_test, y_pred_api,pos_label=1)\n",
        "\n",
        "print(\"Cancer\")\n",
        "print(\"Precision:\", precision)\n",
        "print(\"Recall:\", recall)\n",
        "print(\"F1-score:\", f1)"
      ],
      "metadata": {
        "id": "zdpijwxVx0KU"
      },
      "execution_count": null,
      "outputs": []
    },
    {
      "cell_type": "markdown",
      "source": [
        "AUROC: 0.6336428167907057\n",
        "\n",
        "Cancer\n",
        "\n",
        "Precision: 0.9706457925636007\n",
        "\n",
        "Recall: 0.998992950654582\n",
        "\n",
        "F1-score: 0.9846153846153846"
      ],
      "metadata": {
        "id": "c0rCsYdcbPDZ"
      }
    },
    {
      "cell_type": "markdown",
      "source": [
        "Random forest (grid search cv) [normalisation]"
      ],
      "metadata": {
        "id": "c93MIuaj8ez1"
      }
    },
    {
      "cell_type": "code",
      "source": [
        "from sklearn.model_selection import GridSearchCV\n",
        "from sklearn.ensemble import RandomForestClassifier\n",
        "from sklearn.metrics import accuracy_score\n",
        "\n",
        "# Define the parameter grid? (a dictionary where keys are the hyperparameter names and values are lists of the parameter values to try)\n",
        "param_grid = {'n_estimators': [100, 200, 300], 'max_depth': [None, 10, 20], 'min_samples_split': [2, 5, 10]}\n",
        "\n",
        "rf = RandomForestClassifier(random_state=42, class_weight='balanced')\n",
        "\n",
        "grid_search = GridSearchCV(estimator=rf, param_grid=param_grid, cv=5, scoring='accuracy', n_jobs=-1)\n",
        "\n",
        "grid_search.fit(X_normalized, y)\n",
        "\n",
        "# Access the best parameters and best score\n",
        "print(\"Best Parameters:\", grid_search.best_params_)\n",
        "print(\"Best Score:\", grid_search.best_score_)\n",
        "\n",
        "# Use the best model\n",
        "best_rf = RandomForestClassifier(**grid_search.best_params_)\n",
        "best_rf.fit(X_normalized, y)\n",
        "\n",
        "# Predict on the test data\n",
        "y_pred_api_n = best_rf.predict(X_normalized_test)\n",
        "\n",
        "# Calculate accuracy\n",
        "accuracy = accuracy_score(y_test, y_pred_api_n)\n",
        "print(\"Random Forest Grid Search CV Accuracy:\", accuracy)"
      ],
      "metadata": {
        "id": "1MfM0xRc8cOk"
      },
      "execution_count": null,
      "outputs": []
    },
    {
      "cell_type": "markdown",
      "source": [
        "Best Parameters: {'max_depth': 10, 'min_samples_split': 10, 'n_estimators': 200}\n",
        "\n",
        "Best Score: 0.9758\n",
        "\n",
        "Random Forest Grid Search CV Accuracy: 0.97678916827853"
      ],
      "metadata": {
        "id": "3n-S8Jq3bn2X"
      }
    },
    {
      "cell_type": "markdown",
      "source": [
        "Performance metrics for random forest (grid search cv) [normalisation]"
      ],
      "metadata": {
        "id": "FEAzX8dO8-6w"
      }
    },
    {
      "cell_type": "code",
      "source": [
        "from sklearn.metrics import precision_score, recall_score, f1_score, roc_auc_score\n",
        "\n",
        "auroc = roc_auc_score(y_test, y_pred_api_n)\n",
        "print(\"AUROC:\", auroc)\n",
        "precision = precision_score(y_test, y_pred_api_n,pos_label=1)\n",
        "recall = recall_score(y_test, y_pred_api_n,pos_label=1)\n",
        "f1 = f1_score(y_test, y_pred_api_n,pos_label=1)\n",
        "\n",
        "print(\"Cancer\")\n",
        "print(\"Precision:\", precision)\n",
        "print(\"Recall:\", recall)\n",
        "print(\"F1-score:\", f1)"
      ],
      "metadata": {
        "id": "c6ihXxrL88Qz"
      },
      "execution_count": null,
      "outputs": []
    },
    {
      "cell_type": "markdown",
      "source": [
        "AUROC: 0.7774666568417952\n",
        "\n",
        "Cancer\n",
        "\n",
        "Precision: 0.982089552238806\n",
        "\n",
        "Recall: 0.9939577039274925\n",
        "\n",
        "F1-score: 0.987987987987988"
      ],
      "metadata": {
        "id": "Qsvs6KZ1bvNZ"
      }
    },
    {
      "cell_type": "markdown",
      "source": [
        "5. Support vector machine"
      ],
      "metadata": {
        "id": "Kd2KxgtkU-_Q"
      }
    },
    {
      "cell_type": "code",
      "source": [
        "from sklearn.svm import SVC\n",
        "from sklearn.metrics import accuracy_score\n",
        "from sklearn.metrics import classification_report"
      ],
      "metadata": {
        "id": "Ir0i9BmtVGXL"
      },
      "execution_count": null,
      "outputs": []
    },
    {
      "cell_type": "markdown",
      "source": [
        "5a. SVM with linear kernel (baseline)"
      ],
      "metadata": {
        "id": "4Bl1BS6FVHgy"
      }
    },
    {
      "cell_type": "code",
      "source": [
        "svm = SVC(kernel='linear', random_state=42)\n",
        "svm.fit(X_train_pca, y)\n",
        "\n",
        "# Predicting the test set results\n",
        "y_pred_svm = svm.predict(X_test_pca)\n",
        "\n",
        "# Calculating accuracy\n",
        "accuracy = accuracy_score(y_test, y_pred_svm)\n",
        "SVM_evaluation_metrics = classification_report(y_test, y_pred_svm, target_names=['Healthy', 'Cancer'], output_dict=True)\n",
        "print(\"Accuracy:\", accuracy)\n",
        "print(SVM_evaluation_metrics)"
      ],
      "metadata": {
        "id": "URruT4XwVN8f"
      },
      "execution_count": null,
      "outputs": []
    },
    {
      "cell_type": "markdown",
      "source": [
        "*   Accuracy: 64.14%\n",
        "*   Precision: 79.55% for cancer, 40.35% for healthy\n",
        "*   Recall: 67.31% for cancer, 56.10% for healthy\n",
        "*   F1-Score: 72.92% for cancer, 46.94% for healthy\n"
      ],
      "metadata": {
        "id": "F_BrCuu0YUc5"
      }
    },
    {
      "cell_type": "markdown",
      "source": [
        "5b. Implementing Grid Search CV to tune hyperparameters"
      ],
      "metadata": {
        "id": "SwkareRoVekN"
      }
    },
    {
      "cell_type": "code",
      "source": [
        "from sklearn.model_selection import GridSearchCV\n",
        "from sklearn.metrics import classification_report\n",
        "\n",
        "param_grid = {\n",
        "    'C': [0.1, 1, 10, 100],\n",
        "    'kernel': ['linear', 'poly', 'rbf'],\n",
        "    'degree': [2, 3, 4]}  # Degree parameter for polynomial kernel}\n",
        "\n",
        "# Instantiate the SVM classifier\n",
        "svm = SVC(random_state=42)\n",
        "\n",
        "# Instantiate GridSearchCV\n",
        "grid_search = GridSearchCV(svm, param_grid, cv=10, scoring='accuracy')\n",
        "\n",
        "# Perform grid search\n",
        "grid_search.fit(X_train_pca, y)\n",
        "\n",
        "# Get the best parameters and the corresponding model\n",
        "best_params = grid_search.best_params_\n",
        "best_model = grid_search.best_estimator_\n",
        "\n",
        "# Evaluate the best model on the test set\n",
        "y_pred_svm_api = best_model.predict(X_test_pca)\n",
        "#accuracy = accuracy_score(y_filtered_test, y_pred, pos_label='early stage cancer')\n",
        "#precision = precision_score(y_filtered_test, y_pred, pos_label='early stage cancer')\n",
        "#f1 = f1_score(y_filtered_test, y_pred, pos_label='early stage cancer')\n",
        "report = classification_report(y_test, y_pred_svm_api)\n",
        "print(report)\n",
        "print(\"Best parameters:\", best_params)\n",
        "\n"
      ],
      "metadata": {
        "id": "3aYk1OQEVlaW"
      },
      "execution_count": null,
      "outputs": []
    },
    {
      "cell_type": "markdown",
      "source": [
        "              precision    recall  f1-score   support\n",
        "\n",
        "           0       0.41      0.59      0.48        41\n",
        "           1       0.80      0.67      0.73       104\n",
        "\n",
        "    accuracy                           0.65       145\n",
        "   macro avg       0.61      0.63      0.61       145\n",
        "weighted avg       0.69      0.65      0.66       145\n",
        "\n",
        "Best parameters: {'C': 0.1, 'degree': 2, 'kernel': 'linear'}"
      ],
      "metadata": {
        "id": "SgoCa5jEs5oh"
      }
    }
  ]
}